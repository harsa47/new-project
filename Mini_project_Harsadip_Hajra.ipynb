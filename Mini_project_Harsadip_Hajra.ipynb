{
  "nbformat": 4,
  "nbformat_minor": 0,
  "metadata": {
    "colab": {
      "name": "Mini project_Harsadip Hajra.ipynb",
      "provenance": [],
      "collapsed_sections": [],
      "authorship_tag": "ABX9TyOB+1kgMnRU+ouJCElrdkL3",
      "include_colab_link": true
    },
    "kernelspec": {
      "name": "python3",
      "display_name": "Python 3"
    }
  },
  "cells": [
    {
      "cell_type": "markdown",
      "metadata": {
        "id": "view-in-github",
        "colab_type": "text"
      },
      "source": [
        "<a href=\"https://colab.research.google.com/github/harsa47/new-project/blob/main/Mini_project_Harsadip_Hajra.ipynb\" target=\"_parent\"><img src=\"https://colab.research.google.com/assets/colab-badge.svg\" alt=\"Open In Colab\"/></a>"
      ]
    },
    {
      "cell_type": "code",
      "metadata": {
        "colab": {
          "base_uri": "https://localhost:8080/"
        },
        "id": "vLNcVfGOfIIC",
        "outputId": "94d36259-0cb9-40ce-fc2f-ba447fcf2920"
      },
      "source": [
        "!pip install ipython-autotime \r\n",
        "%load_ext autotime"
      ],
      "execution_count": null,
      "outputs": [
        {
          "output_type": "stream",
          "text": [
            "Collecting ipython-autotime\n",
            "  Downloading https://files.pythonhosted.org/packages/b4/c9/b413a24f759641bc27ef98c144b590023c8038dfb8a3f09e713e9dff12c1/ipython_autotime-0.3.1-py2.py3-none-any.whl\n",
            "Requirement already satisfied: ipython in /usr/local/lib/python3.6/dist-packages (from ipython-autotime) (5.5.0)\n",
            "Requirement already satisfied: setuptools>=18.5 in /usr/local/lib/python3.6/dist-packages (from ipython->ipython-autotime) (53.0.0)\n",
            "Requirement already satisfied: pygments in /usr/local/lib/python3.6/dist-packages (from ipython->ipython-autotime) (2.6.1)\n",
            "Requirement already satisfied: prompt-toolkit<2.0.0,>=1.0.4 in /usr/local/lib/python3.6/dist-packages (from ipython->ipython-autotime) (1.0.18)\n",
            "Requirement already satisfied: simplegeneric>0.8 in /usr/local/lib/python3.6/dist-packages (from ipython->ipython-autotime) (0.8.1)\n",
            "Requirement already satisfied: decorator in /usr/local/lib/python3.6/dist-packages (from ipython->ipython-autotime) (4.4.2)\n",
            "Requirement already satisfied: traitlets>=4.2 in /usr/local/lib/python3.6/dist-packages (from ipython->ipython-autotime) (4.3.3)\n",
            "Requirement already satisfied: pexpect; sys_platform != \"win32\" in /usr/local/lib/python3.6/dist-packages (from ipython->ipython-autotime) (4.8.0)\n",
            "Requirement already satisfied: pickleshare in /usr/local/lib/python3.6/dist-packages (from ipython->ipython-autotime) (0.7.5)\n",
            "Requirement already satisfied: six>=1.9.0 in /usr/local/lib/python3.6/dist-packages (from prompt-toolkit<2.0.0,>=1.0.4->ipython->ipython-autotime) (1.15.0)\n",
            "Requirement already satisfied: wcwidth in /usr/local/lib/python3.6/dist-packages (from prompt-toolkit<2.0.0,>=1.0.4->ipython->ipython-autotime) (0.2.5)\n",
            "Requirement already satisfied: ipython-genutils in /usr/local/lib/python3.6/dist-packages (from traitlets>=4.2->ipython->ipython-autotime) (0.2.0)\n",
            "Requirement already satisfied: ptyprocess>=0.5 in /usr/local/lib/python3.6/dist-packages (from pexpect; sys_platform != \"win32\"->ipython->ipython-autotime) (0.7.0)\n",
            "Installing collected packages: ipython-autotime\n",
            "Successfully installed ipython-autotime-0.3.1\n",
            "time: 3.41 ms (started: 2021-02-22 16:01:45 +00:00)\n"
          ],
          "name": "stdout"
        }
      ]
    },
    {
      "cell_type": "code",
      "metadata": {
        "id": "u0HnDmhAYKRY",
        "colab": {
          "base_uri": "https://localhost:8080/"
        },
        "outputId": "a21f445d-c572-4c7e-f556-9cfdf67b1958"
      },
      "source": [
        "# Data : Images \r\n",
        "# 1. Download the images from google\r\n",
        "# 2. Download dataset from Kaggle.com\r\n",
        "# 3. Build a Image Web Crawler\r\n",
        "# 4. Use python libraries to scrape the images (using)\r\n"
      ],
      "execution_count": null,
      "outputs": [
        {
          "output_type": "stream",
          "text": [
            "time: 1.68 ms (started: 2021-02-22 16:01:45 +00:00)\n"
          ],
          "name": "stdout"
        }
      ]
    },
    {
      "cell_type": "code",
      "metadata": {
        "colab": {
          "base_uri": "https://localhost:8080/"
        },
        "id": "W0krd2lmamv_",
        "outputId": "4fac21ea-6c85-4789-f64b-ac2a116fd7af"
      },
      "source": [
        "!pip install bing-image-downloader"
      ],
      "execution_count": null,
      "outputs": [
        {
          "output_type": "stream",
          "text": [
            "Collecting bing-image-downloader\n",
            "  Downloading https://files.pythonhosted.org/packages/0d/bf/537a61030b84ae4cd5022d5c7b014fd9bc3ce7c02358919153a6658a61d3/bing_image_downloader-1.0.4-py3-none-any.whl\n",
            "Installing collected packages: bing-image-downloader\n",
            "Successfully installed bing-image-downloader-1.0.4\n",
            "time: 3.05 s (started: 2021-02-22 16:01:50 +00:00)\n"
          ],
          "name": "stdout"
        }
      ]
    },
    {
      "cell_type": "code",
      "metadata": {
        "id": "wHTTLFGha5eG",
        "colab": {
          "base_uri": "https://localhost:8080/"
        },
        "outputId": "8c3ee61b-21f8-40be-9d0c-ef0a463f3392"
      },
      "source": [
        "!mkdir images"
      ],
      "execution_count": null,
      "outputs": [
        {
          "output_type": "stream",
          "text": [
            "time: 115 ms (started: 2021-02-22 16:01:54 +00:00)\n"
          ],
          "name": "stdout"
        }
      ]
    },
    {
      "cell_type": "code",
      "metadata": {
        "colab": {
          "base_uri": "https://localhost:8080/"
        },
        "id": "rdvkdysXbIsH",
        "outputId": "7e4ba7a1-3831-41f1-d83f-af9c360b1a2d"
      },
      "source": [
        "from bing_image_downloader import downloader\r\n",
        "downloader.download(\"racket\",limit=30,output_dir='images',\r\n",
        "                    adult_filter_off=True)"
      ],
      "execution_count": 39,
      "outputs": [
        {
          "output_type": "stream",
          "text": [
            "\n",
            "\n",
            "[!!]Indexing page: 1\n",
            "\n",
            "[%] Indexed 30 Images on Page 1.\n",
            "\n",
            "===============================================\n",
            "\n",
            "[%] Downloading Image #1 from https://cdn.sweatband.com/ashaway_superlight_7_hex_frame_badminton_racket_2018_ashaway_superlight_7_hex_frame_badminton_racket_2018_-_zoom1_2000x2000.jpg\n",
            "[%] File Downloaded !\n",
            "\n",
            "[%] Downloading Image #2 from https://www.tennisnuts.com/images/product/full/13201_jetspeed-s-8ps-racket.jpg\n",
            "[%] File Downloaded !\n",
            "\n",
            "[%] Downloading Image #3 from https://cdn.sweatband.com/ashaway_am303_junior_badminton_racket_ss16_ashaway_am303_junior_badminton_racket-turquoise_2000x2000.jpg\n",
            "[%] File Downloaded !\n",
            "\n",
            "[%] Downloading Image #4 from http://www.mantis-sport.com/images/stories/shop/product/RBR160_160_Racketball_Racket.png\n",
            "[!] Issue getting: http://www.mantis-sport.com/images/stories/shop/product/RBR160_160_Racketball_Racket.png\n",
            "[!] Error:: HTTP Error 404: Not Found\n",
            "[%] Downloading Image #4 from https://www.stringersworld.com/images/detailed/43/Radical19_9gf8-wc.jpg?t=1558018834\n",
            "[!] Issue getting: https://www.stringersworld.com/images/detailed/43/Radical19_9gf8-wc.jpg?t=1558018834\n",
            "[!] Error:: <urlopen error [SSL: CERTIFICATE_VERIFY_FAILED] certificate verify failed (_ssl.c:852)>\n",
            "[%] Downloading Image #4 from https://maximussports.ae/images/detailed/11/kb1753-1_hip2-lj.jpg\n",
            "[%] File Downloaded !\n",
            "\n",
            "[%] Downloading Image #5 from https://n3.sdlcdn.com/imgs/b/u/b/ARTENGO-BR-750-Badminton-Racket-SDL295924521-1-5d212.jpg\n",
            "[%] File Downloaded !\n",
            "\n",
            "[%] Downloading Image #6 from https://www.tennisnuts.com/images/product/full/g_WRT9122_Wilson_Tour138_Red_Squash_Racket_2015.jpg\n",
            "[%] File Downloaded !\n",
            "\n",
            "[%] Downloading Image #7 from https://contents.mediadecathlon.com/p1705659/2000x2000/sq/tr130_size_25_kids_tennis_racket_artengo_8540238_1705659.jpg?k=7146a924d5e47a17525d244216e249bd\n",
            "[%] File Downloaded !\n",
            "\n",
            "[%] Downloading Image #8 from https://cdn.sweatband.com/head_graphene_xt_instinct_junior_tennis_racket_head_graphenext_instinct_junior_tennis_racket_image_2000x2000.jpg\n",
            "[%] File Downloaded !\n",
            "\n",
            "[%] Downloading Image #9 from https://cdn.sweatband.com/slazenger_aero_v98_tour_tennis_racket_slazenger_aero_v98_tour_tennis_racket_2000x2000.jpg\n",
            "[%] File Downloaded !\n",
            "\n",
            "[%] Downloading Image #10 from https://www.tennisnuts.com/images/product/full/WR016210U_A.jpg\n",
            "[%] File Downloaded !\n",
            "\n",
            "[%] Downloading Image #11 from https://vks.com/wp-content/uploads/2016/06/pure-aero-lite-tennis-racket.jpg\n",
            "[%] File Downloaded !\n",
            "\n",
            "[%] Downloading Image #12 from https://cdn.sweatband.com/head_radical_25_junior_graphite_tennis_racket_aw17_head_radical_25_junior_graphite_tennis_racket_aw17_2000x2000.jpg\n",
            "[%] File Downloaded !\n",
            "\n",
            "[%] Downloading Image #13 from https://www.dobsonandrobinson.co.uk/images/product/2307161489491614.jpg.jpg\n",
            "[%] File Downloaded !\n",
            "\n",
            "[%] Downloading Image #14 from https://cdn.sweatband.com/yonex_vcore_xi_25_graphite_junior_tennis_racket_yonex_vcore_xi_25_graphite_junior_tennis_racket_2000x2000.jpg\n",
            "[%] File Downloaded !\n",
            "\n",
            "[%] Downloading Image #15 from https://www.squashgearpro.com/1240-thickbox_default/yonex-arcsaber-6fl-badminton-racket.jpg\n",
            "[%] File Downloaded !\n",
            "\n",
            "[%] Downloading Image #16 from https://cdn.sweatband.com/tecnifibre_t-fit_280_power_tennis_racket_aw19_tecnifibre_t-fit_280_power_tennis_racket_aw19_2000x2000.jpg\n",
            "[%] File Downloaded !\n",
            "\n",
            "[%] Downloading Image #17 from https://cdn.sweatband.com/tecnifibre_suprem_fire_160_-_squash_racket_double_pack_tecnifibre_suprem_fire_160_-_squash_racket_double_pack_2000x2000.jpg\n",
            "[%] File Downloaded !\n",
            "\n",
            "[%] Downloading Image #18 from https://www.tennisnuts.com/images/product/full/WRT938300_2000_1.jpg\n",
            "[%] File Downloaded !\n",
            "\n",
            "[%] Downloading Image #19 from https://www.brandreviewly.com/wp-content/uploads/2020/06/genji-sports-titanium-package-racket-set.jpg\n",
            "[%] File Downloaded !\n",
            "\n",
            "[%] Downloading Image #20 from https://www.mdgsports.co.uk/images/head-graphene-360-gravity-mp-tennis-racket-2019-p968-3132_image.jpg\n",
            "[%] File Downloaded !\n",
            "\n",
            "[%] Downloading Image #21 from http://www.nikeairmax90shoes.com/image/cache/catalog/REGAILCarbonAluminumAlloyFrameTennisRacketRegularGradeUnisexTennisRacketCellosilkThread2Colors-32695815885-1-800x800.jpeg\n",
            "[%] File Downloaded !\n",
            "\n",
            "[%] Downloading Image #22 from https://stockx.imgix.net/products/streetwear/BAPE-x-Wilson-Tennis-Racket-Green.jpg?fit=fill&amp;bg=FFFFFF&amp;w=700&amp;h=500&amp;auto=format,compress&amp;q=90&amp;dpr=2&amp;trim=color&amp;updated_at=1567192743\n",
            "[%] File Downloaded !\n",
            "\n",
            "[%] Downloading Image #23 from http://www.directbadminton.co.uk/Images/ExtraLarge/Car_113863.jpg\n",
            "[%] File Downloaded !\n",
            "\n",
            "[%] Downloading Image #24 from https://n1.sdlcdn.com/imgs/a/y/5/Triumph-Badminton-Racket-Smart-1002-SDL119243002-1-f128e.jpg\n",
            "[%] File Downloaded !\n",
            "\n",
            "[%] Downloading Image #25 from https://kampendestillateurs.nl/wp-content/uploads/2019/10/Tennis-racket.jpg\n",
            "[%] File Downloaded !\n",
            "\n",
            "[%] Downloading Image #26 from https://n3.sdlcdn.com/imgs/a/i/g/Silver-s-Boron-Badminton-Racket-SDL209173986-1-7cdec.jpg\n",
            "[%] File Downloaded !\n",
            "\n",
            "[%] Downloading Image #27 from https://cdn.sweatband.com/tecnifibre_carboflex_130_s_basaltex_multiaxial_squash_racket_tecnifibre_carboflex_130_s_basaltex_multiaxial_squash_racket_-_main_2019_2000x2000.jpg\n",
            "[%] File Downloaded !\n",
            "\n",
            "[%] Downloading Image #28 from https://nwscdn.com/media/wysiwyg/3kf/tennis/Well_Balanced_Tennis_Racket_For_Senior_Tennis_Players.jpg\n",
            "[%] File Downloaded !\n",
            "\n",
            "\n",
            "\n",
            "[!!]Indexing page: 2\n",
            "\n",
            "[%] Indexed 35 Images on Page 2.\n",
            "\n",
            "===============================================\n",
            "\n",
            "[%] Downloading Image #29 from https://cdn.sweatband.com/ashaway_superlight_7_hex_frame_badminton_racket_2018_ashaway_superlight_7_hex_frame_badminton_racket_2018_-_zoom1_2000x2000.jpg\n",
            "[%] File Downloaded !\n",
            "\n",
            "[%] Downloading Image #30 from https://www.tennisnuts.com/images/product/full/13201_jetspeed-s-8ps-racket.jpg\n",
            "[%] File Downloaded !\n",
            "\n",
            "\n",
            "\n",
            "[%] Done. Downloaded 30 images.\n",
            "\n",
            "===============================================\n",
            "\n",
            "time: 47 s (started: 2021-02-22 17:53:04 +00:00)\n"
          ],
          "name": "stdout"
        }
      ]
    },
    {
      "cell_type": "code",
      "metadata": {
        "colab": {
          "base_uri": "https://localhost:8080/"
        },
        "id": "zxVntp2OdHNy",
        "outputId": "f0c3e933-9d62-467b-97b7-2906e17f7cff"
      },
      "source": [
        "downloader.download(\"tennis ball\",limit=30,output_dir='images',\r\n",
        "                    adult_filter_off=True)"
      ],
      "execution_count": 40,
      "outputs": [
        {
          "output_type": "stream",
          "text": [
            "\n",
            "\n",
            "[!!]Indexing page: 1\n",
            "\n",
            "[%] Indexed 30 Images on Page 1.\n",
            "\n",
            "===============================================\n",
            "\n",
            "[%] Downloading Image #1 from https://nwscdn.com/media/wysiwyg/3kf/high/High-Performance_Tennis_Balls_For_Training_Tournaments.jpg\n",
            "[%] File Downloaded !\n",
            "\n",
            "[%] Downloading Image #2 from http://kidologist.com/wp-content/2011/11/tennisballs.jpg\n",
            "[%] File Downloaded !\n",
            "\n",
            "[%] Downloading Image #3 from https://i5.walmartimages.com/asr/078a3998-635c-4e5a-8344-fa3244beedb4_1.8327e58b4c41da6234469c21ef5cba91.jpeg\n",
            "[%] File Downloaded !\n",
            "\n",
            "[%] Downloading Image #4 from http://odditymall.com/includes/content/upload/giant-tennis-ball-3153.jpg\n",
            "[%] File Downloaded !\n",
            "\n",
            "[%] Downloading Image #5 from https://cdn.notonthehighstreet.com/system/product_images/images/001/735/065/original_personalised-tennis-balls.jpg\n",
            "[%] File Downloaded !\n",
            "\n",
            "[%] Downloading Image #6 from https://www.rebelsport.com.au/dw/image/v2/BBRV_PRD/on/demandware.static/-/Sites-srg-internal-master-catalog/default/dwa628f115/images/384463/Rebel_384463-00_hi-res.jpg?sw=558&amp;sh=558&amp;sm=fit\n",
            "[%] File Downloaded !\n",
            "\n",
            "[%] Downloading Image #7 from https://www.quickanddirtytips.com/sites/default/files/images/2031/tennis-balls.jpg\n",
            "[%] File Downloaded !\n",
            "\n",
            "[%] Downloading Image #8 from https://www.hurtowniasportowa.eu/eng_pl_TENNIS-BALLS-METEOR-3-pcs-4492_2.jpg\n",
            "[%] File Downloaded !\n",
            "\n",
            "[%] Downloading Image #9 from https://educationaltoys.co.za/621-thickbox_default/tennis-balls-3-pratice-balls.jpg\n",
            "[%] File Downloaded !\n",
            "\n",
            "[%] Downloading Image #10 from https://deeprecovery.com/wp-content/uploads/2014/05/humble-tennis-balls.jpg\n",
            "[%] File Downloaded !\n",
            "\n",
            "[%] Downloading Image #11 from https://cdn.sweatband.com/wilson_roland_garros_green_tennis_balls_-_1_dozen_wilson_roland_garros_green_tennis_balls_-_1_dozen_-_ball2_2000x2000.jpg\n",
            "[%] File Downloaded !\n",
            "\n",
            "[%] Downloading Image #12 from http://cdn.notonthehighstreet.com/fs/4d/6a/8ee0-1345-4179-b20e-4ea98430e8e8/original_personalised-tennis-balls.jpg\n",
            "[%] File Downloaded !\n",
            "\n",
            "[%] Downloading Image #13 from https://nwscdn.com/media/wysiwyg/Tennis/Bucket_Of_Tennis_Balls_For_Tennis_Coaches.jpg\n",
            "[%] File Downloaded !\n",
            "\n",
            "[%] Downloading Image #14 from https://littleimps.co.uk/wp-content/uploads/2017/11/Tennis_Ball_1_grande.png\n",
            "[%] File Downloaded !\n",
            "\n",
            "[%] Downloading Image #15 from https://blog.playo.co/wp-content/uploads/2017/04/tennis-bad-hd.jpg\n",
            "[%] File Downloaded !\n",
            "\n",
            "[%] Downloading Image #16 from https://n4.sdlcdn.com/imgs/c/f/1/Hayden-12-Red-Tennis-Ball-SDL674639018-2-9a42e.jpg\n",
            "[%] File Downloaded !\n",
            "\n",
            "[%] Downloading Image #17 from https://at.sportsdirect.com/images/marketing/de/lp-tennis-10-2017-v2.jpg\n",
            "[%] File Downloaded !\n",
            "\n",
            "[%] Downloading Image #18 from https://www.mayfairclubs.com/wp-content/uploads/2017/12/tennis-ball.jpg\n",
            "[%] File Downloaded !\n",
            "\n",
            "[%] Downloading Image #19 from https://www.tennisexpress.com/prodimages/alt_images/601354USCS-32.jpg\n",
            "[%] File Downloaded !\n",
            "\n",
            "[%] Downloading Image #20 from https://contents.mediadecathlon.com/p1578806/k$4ef4bea148d037aafac50fc23559897c/hard-tennis-ball-flourescent.jpg?&amp;f=800x800\n",
            "[%] File Downloaded !\n",
            "\n",
            "[%] Downloading Image #21 from https://images.startsat60.com/wp-content/uploads/20171123202641/tennisballs-720x379.jpg?w=720&amp;h=405\n",
            "[%] File Downloaded !\n",
            "\n",
            "[%] Downloading Image #22 from https://nwscdn.com/media/wysiwyg/3kf/pick/Pick_Up_Tube_For_Tennis_Balls.jpg\n",
            "[%] File Downloaded !\n",
            "\n",
            "[%] Downloading Image #23 from https://www.painscience.com/imgs/tennis-ball-m.jpg\n",
            "[%] File Downloaded !\n",
            "\n",
            "[%] Downloading Image #24 from https://n2.sdlcdn.com/imgs/a/s/7/Guru-Multi-Colour-Tennis-Balls-SDL682877155-1-57819.jpg\n",
            "[%] File Downloaded !\n",
            "\n",
            "[%] Downloading Image #25 from https://www.aspectmerchandise.co.uk/wp-content/uploads/tennis-ball.jpg\n",
            "[%] File Downloaded !\n",
            "\n",
            "[%] Downloading Image #26 from https://upload.wikimedia.org/wikipedia/commons/thumb/4/41/Closeup_of_a_tennis_ball_%282%29.jpg/220px-Closeup_of_a_tennis_ball_%282%29.jpg\n",
            "[Error]Invalid image, not saving https://upload.wikimedia.org/wikipedia/commons/thumb/4/41/Closeup_of_a_tennis_ball_%282%29.jpg/220px-Closeup_of_a_tennis_ball_%282%29.jpg\n",
            "\n",
            "[!] Issue getting: https://upload.wikimedia.org/wikipedia/commons/thumb/4/41/Closeup_of_a_tennis_ball_%282%29.jpg/220px-Closeup_of_a_tennis_ball_%282%29.jpg\n",
            "[!] Error:: No active exception to reraise\n",
            "[%] Downloading Image #26 from https://cdn.sweatband.com/sweatband.com head team tennis balls (1 dozen)_ball_2000x2000.jpg\n",
            "[!] Issue getting: https://cdn.sweatband.com/sweatband.com head team tennis balls (1 dozen)_ball_2000x2000.jpg\n",
            "[!] Error:: URL can't contain control characters. '/sweatband.com head team tennis balls (1 dozen)_ball_2000x2000.jpg' (found at least ' ')\n",
            "[%] Downloading Image #26 from http://www.totalmerchandise.co.uk/uploads/product-images/Tennis_Balls1.jpg\n",
            "[%] File Downloaded !\n",
            "\n",
            "[%] Downloading Image #27 from https://cdn.shopify.com/s/files/1/2492/2742/products/PP-GE01-green_800x.jpg?v=1560499372\n",
            "[%] File Downloaded !\n",
            "\n",
            "[%] Downloading Image #28 from https://media.istockphoto.com/photos/isolated-yellow-tennis-ball-on-white-picture-id160179174?k=6&amp;m=160179174&amp;s=170667a&amp;w=0&amp;h=9G-gyMZsYnVYmZkIylv4WGg6b0ZEX3S5aXoGzlcDnsM=\n",
            "[%] File Downloaded !\n",
            "\n",
            "\n",
            "\n",
            "[!!]Indexing page: 2\n",
            "\n",
            "[%] Indexed 35 Images on Page 2.\n",
            "\n",
            "===============================================\n",
            "\n",
            "[%] Downloading Image #29 from https://nwscdn.com/media/wysiwyg/3kf/high/High-Performance_Tennis_Balls_For_Training_Tournaments.jpg\n",
            "[%] File Downloaded !\n",
            "\n",
            "[%] Downloading Image #30 from http://kidologist.com/wp-content/2011/11/tennisballs.jpg\n",
            "[%] File Downloaded !\n",
            "\n",
            "\n",
            "\n",
            "[%] Done. Downloaded 30 images.\n",
            "\n",
            "===============================================\n",
            "\n",
            "time: 43.2 s (started: 2021-02-22 17:54:08 +00:00)\n"
          ],
          "name": "stdout"
        }
      ]
    },
    {
      "cell_type": "code",
      "metadata": {
        "colab": {
          "base_uri": "https://localhost:8080/"
        },
        "id": "MVsFX1znjqJG",
        "outputId": "df3e44de-25c0-4f3d-ce5d-9680a0f2c2ee"
      },
      "source": [
        "downloader.download(\"cricket bat\",limit=30,output_dir='images',\r\n",
        "                    adult_filter_off=True)"
      ],
      "execution_count": 41,
      "outputs": [
        {
          "output_type": "stream",
          "text": [
            "\n",
            "\n",
            "[!!]Indexing page: 1\n",
            "\n",
            "[%] Indexed 30 Images on Page 1.\n",
            "\n",
            "===============================================\n",
            "\n",
            "[%] Downloading Image #1 from https://cdn11.bigcommerce.com/s-mp7zec0jes/images/stencil/1280x1280/products/131/433/CA12000Plus__11988.1516252504.jpg?c=2&amp;imbypass=on\n",
            "[%] File Downloaded !\n",
            "\n",
            "[%] Downloading Image #2 from https://ethlits.com/media/catalog/product/cache/1/thumbnail/4f9502202b77059316180a23e4857517/s/g/sg_hp33_english_willow_cricket_bat_size_sh_ethlits.com_3_.jpg\n",
            "[%] File Downloaded !\n",
            "\n",
            "[%] Downloading Image #3 from https://n3.sdlcdn.com/imgs/i/h/e/CEAT-KASHMIR-WILLOW-CRICKET-BAT-SDL023104939-1-7c8bd.jpeg\n",
            "[%] File Downloaded !\n",
            "\n",
            "[%] Downloading Image #4 from https://www.cricketequipmentusa.com/content/images/thumbs/0003685_cricket-bat-kashmir-willow-six6-101-by-gunn-moore.jpeg\n",
            "[%] File Downloaded !\n",
            "\n",
            "[%] Downloading Image #5 from https://ethlits.com/media/catalog/product/cache/1/thumbnail/4f9502202b77059316180a23e4857517/s/g/sg_tripple_crown_xtreme_english_willow_cricket_bat_size_sh_ethlits.com_1_.jpg\n",
            "[%] File Downloaded !\n",
            "\n",
            "[%] Downloading Image #6 from https://ethlits.com/media/catalog/product/cache/1/image/1200x/999c6c65e255d7531240810e30f61e61/s/s/ss_ton_classic_english_willow_cricket_bat_ethlits.com_2_.jpg\n",
            "[%] File Downloaded !\n",
            "\n",
            "[%] Downloading Image #7 from https://ethlits.com/media/catalog/product/cache/1/thumbnail/4f9502202b77059316180a23e4857517/s/s/ss_vintage_3.0_english_willow_cricket_bat_size_sh_ethlits.com_1_.jpg\n",
            "[%] File Downloaded !\n",
            "\n",
            "[%] Downloading Image #8 from https://vks.com/wp-content/uploads/2018/10/2.jpg\n",
            "[%] File Downloaded !\n",
            "\n",
            "[%] Downloading Image #9 from https://ethlits.com/media/catalog/product/cache/1/thumbnail/4f9502202b77059316180a23e4857517/s/g/sg_sunny_legend_english_willow_cricket_bat_size_sh_ethlits.com_3_.jpg\n",
            "[%] File Downloaded !\n",
            "\n",
            "[%] Downloading Image #10 from https://www.prodirectcricket.com/productimages/Gallery_2/212711_Gallery_2_0602264.jpg\n",
            "[!] Issue getting: https://www.prodirectcricket.com/productimages/Gallery_2/212711_Gallery_2_0602264.jpg\n",
            "[!] Error:: HTTP Error 403: Forbidden\n",
            "[%] Downloading Image #10 from https://n4.sdlcdn.com/imgs/h/m/d/Kookaburra-Poplar-Willow-Cricket-Bat-SDL356349471-1-9d728.jpeg\n",
            "[%] File Downloaded !\n",
            "\n",
            "[%] Downloading Image #11 from https://n2.sdlcdn.com/imgs/a/n/8/Sunny-Sports-Cricket-Bat-SDL908958782-1-cfe83.jpg\n",
            "[%] File Downloaded !\n",
            "\n",
            "[%] Downloading Image #12 from https://bucket.pk/wp-content/uploads/2019/02/HS-41-Cricket-Bat-a.jpg\n",
            "[%] File Downloaded !\n",
            "\n",
            "[%] Downloading Image #13 from https://www.poobienaidoos.co.za/wp-content/uploads/2019/07/9BURNBPOW-1.jpg\n",
            "[%] File Downloaded !\n",
            "\n",
            "[%] Downloading Image #14 from https://cdn11.bigcommerce.com/s-tj87duh98/images/stencil/1280x1280/products/1326/2740/MRF_Grand_Edition_cricket_bat_f-b_view__22201__43314.1566906180.jpg?c=1&amp;imbypass=on\n",
            "[%] File Downloaded !\n",
            "\n",
            "[%] Downloading Image #15 from https://n3.sdlcdn.com/imgs/g/k/r/ceat-size-4-cricket-bat-SDL088941980-1-fe15c.jpeg\n",
            "[%] File Downloaded !\n",
            "\n",
            "[%] Downloading Image #16 from https://ethlits.com/media/catalog/product/cache/1/image/1200x/999c6c65e255d7531240810e30f61e61/s/g/sg_roar_le_english_willow_cricket_bat_size_sh_ethlits.com_2_.jpg\n",
            "[%] File Downloaded !\n",
            "\n",
            "[%] Downloading Image #17 from https://www.cricketequipmentusa.com/content/images/thumbs/0003509_cricket-bat-english-willow-kahuna-500-by-kookaburra.jpeg\n",
            "[%] File Downloaded !\n",
            "\n",
            "[%] Downloading Image #18 from https://www.mrcrickethockey.com/wp-content/uploads/2019/12/Vortex.jpg\n",
            "[%] File Downloaded !\n",
            "\n",
            "[%] Downloading Image #19 from https://n2.sdlcdn.com/imgs/f/6/7/Ceat-poplar-Willow-Cricket-Bat-SDL917512572-1-eeb3f.jpeg\n",
            "[%] File Downloaded !\n",
            "\n",
            "[%] Downloading Image #20 from https://n1.sdlcdn.com/imgs/g/o/1/Spartan-Popular-Willow-Cricket-bat-SDL487052808-1-cc542.jpg\n",
            "[%] File Downloaded !\n",
            "\n",
            "[%] Downloading Image #21 from https://ethlits.com/media/catalog/product/cache/1/thumbnail/4f9502202b77059316180a23e4857517/s/g/sg_rsd_select_english_willow_cricket_bat_size_sh_ethlits.com_3_.jpg\n",
            "[%] File Downloaded !\n",
            "\n",
            "[%] Downloading Image #22 from https://www.prodirectcricket.com/productimages/Gallery_2/214464_Gallery_2_0595857.jpg\n",
            "[!] Issue getting: https://www.prodirectcricket.com/productimages/Gallery_2/214464_Gallery_2_0595857.jpg\n",
            "[!] Error:: HTTP Error 403: Forbidden\n",
            "[%] Downloading Image #22 from https://n2.sdlcdn.com/imgs/i/9/e/cricket-bat-SDL694681144-2-e84f8.jpg\n",
            "[%] File Downloaded !\n",
            "\n",
            "[%] Downloading Image #23 from https://simbasportsproducts.com/shop/144-thickbox_default/hurrican-cricket-bat.jpg\n",
            "[%] File Downloaded !\n",
            "\n",
            "[%] Downloading Image #24 from https://www.cricketequipmentusa.com/content/images/thumbs/0003889_blaze-cricket-bat-made-from-poplar-wood-tennis-ball-bat-medium-weight-blue-short-handle.jpeg\n",
            "[%] File Downloaded !\n",
            "\n",
            "[%] Downloading Image #25 from https://simbasportsproducts.com/shop/141-thickbox_default/lightning-cricket-bat.jpg\n",
            "[%] File Downloaded !\n",
            "\n",
            "[%] Downloading Image #26 from https://n4.sdlcdn.com/imgs/g/j/9/nike-poplar-cricket-bat-SDL871806647-1-3c53a.jpeg\n",
            "[%] File Downloaded !\n",
            "\n",
            "[%] Downloading Image #27 from https://n4.sdlcdn.com/imgs/b/1/s/SN-Cricket-Bat-Size-6-SDL184183612-2-4f895.jpg\n",
            "[%] File Downloaded !\n",
            "\n",
            "[%] Downloading Image #28 from https://cdn11.bigcommerce.com/s-4aoucgs/images/stencil/2048x2048/products/142/703/02__81725.1567412422.png?c=2\n",
            "[%] File Downloaded !\n",
            "\n",
            "\n",
            "\n",
            "[!!]Indexing page: 2\n",
            "\n",
            "[%] Indexed 35 Images on Page 2.\n",
            "\n",
            "===============================================\n",
            "\n",
            "[%] Downloading Image #29 from https://ethlits.com/media/catalog/product/cache/1/thumbnail/4f9502202b77059316180a23e4857517/s/g/sg_tripple_crown_xtreme_english_willow_cricket_bat_size_sh_ethlits.com_1_.jpg\n",
            "[%] File Downloaded !\n",
            "\n",
            "[%] Downloading Image #30 from https://ethlits.com/media/catalog/product/cache/1/thumbnail/4f9502202b77059316180a23e4857517/s/s/ss_vintage_3.0_english_willow_cricket_bat_size_sh_ethlits.com_1_.jpg\n",
            "[%] File Downloaded !\n",
            "\n",
            "\n",
            "\n",
            "[%] Done. Downloaded 30 images.\n",
            "\n",
            "===============================================\n",
            "\n",
            "time: 43 s (started: 2021-02-22 17:55:09 +00:00)\n"
          ],
          "name": "stdout"
        }
      ]
    },
    {
      "cell_type": "code",
      "metadata": {
        "colab": {
          "base_uri": "https://localhost:8080/"
        },
        "id": "Fqa9hsadeFLl",
        "outputId": "361a690c-b96e-4544-aa8a-35b18699c178"
      },
      "source": [
        "import os\r\n",
        "import matplotlib.pyplot as plt\r\n",
        "import numpy as np\r\n",
        "from skimage.io import imread\r\n",
        "from skimage.transform import resize\r\n",
        "\r\n",
        "target = []\r\n",
        "images = []\r\n",
        "flat_data = []\r\n",
        "\r\n",
        "DATADIR = '/content/images'\r\n",
        "\r\n",
        "CATEGORIES = ['racket','tennis ball','cricket bat']\r\n",
        "\r\n",
        "for category in CATEGORIES:\r\n",
        "  class_num = CATEGORIES.index(category)\r\n",
        "  path = os.path.join(DATADIR,category)\r\n",
        "  for img in os.listdir(path):\r\n",
        "    img_array = imread(os.path.join(path,img))\r\n",
        "    img_resized = resize(img_array,(150,150,3))\r\n",
        "    flat_data.append(img_resized.flatten())\r\n",
        "    images.append(img_resized)\r\n",
        "    target.append(class_num)\r\n",
        "\r\n",
        "flat_data = np.array(flat_data)\r\n",
        "target = np.array(target)\r\n",
        "images = np.array(images) \r\n"
      ],
      "execution_count": 43,
      "outputs": [
        {
          "output_type": "stream",
          "text": [
            "time: 26.6 s (started: 2021-02-22 17:57:44 +00:00)\n"
          ],
          "name": "stdout"
        }
      ]
    },
    {
      "cell_type": "code",
      "metadata": {
        "colab": {
          "base_uri": "https://localhost:8080/"
        },
        "id": "3k0UHJkGssVT",
        "outputId": "7cdec4ff-02ac-44c9-c98e-916f94d6ce9f"
      },
      "source": [
        "len(flat_data[0])"
      ],
      "execution_count": null,
      "outputs": [
        {
          "output_type": "execute_result",
          "data": {
            "text/plain": [
              "67500"
            ]
          },
          "metadata": {
            "tags": []
          },
          "execution_count": 11
        },
        {
          "output_type": "stream",
          "text": [
            "time: 4.59 ms (started: 2021-02-22 16:03:58 +00:00)\n"
          ],
          "name": "stdout"
        }
      ]
    },
    {
      "cell_type": "code",
      "metadata": {
        "colab": {
          "base_uri": "https://localhost:8080/"
        },
        "id": "4HKQaVB9tA5z",
        "outputId": "1acecbcf-f25d-461f-cd75-ded14192ca9a"
      },
      "source": [
        "target"
      ],
      "execution_count": null,
      "outputs": [
        {
          "output_type": "execute_result",
          "data": {
            "text/plain": [
              "array([0, 0, 0, 0, 0, 0, 0, 0, 0, 0, 0, 0, 0, 0, 0, 0, 0, 0, 0, 0, 0, 0,\n",
              "       0, 0, 0, 0, 0, 0, 0, 0, 1, 1, 1, 1, 1, 1, 1, 1, 1, 1, 1, 1, 1, 1,\n",
              "       1, 1, 1, 1, 1, 1, 1, 1, 1, 1, 1, 1, 1, 1, 1, 1, 2, 2, 2, 2, 2, 2,\n",
              "       2, 2, 2, 2, 2, 2, 2, 2, 2, 2, 2, 2, 2, 2, 2, 2, 2, 2, 2, 2, 2, 2,\n",
              "       2, 2])"
            ]
          },
          "metadata": {
            "tags": []
          },
          "execution_count": 12
        },
        {
          "output_type": "stream",
          "text": [
            "time: 4.5 ms (started: 2021-02-22 16:03:58 +00:00)\n"
          ],
          "name": "stdout"
        }
      ]
    },
    {
      "cell_type": "code",
      "metadata": {
        "colab": {
          "base_uri": "https://localhost:8080/",
          "height": 300
        },
        "id": "Cfg0XVXCtDSB",
        "outputId": "f81fa6a2-8cea-47f3-8c51-3b47ef9bfae9"
      },
      "source": [
        "unique,count = np.unique(target,return_counts=True)\r\n",
        "plt.bar(CATEGORIES,count)"
      ],
      "execution_count": 44,
      "outputs": [
        {
          "output_type": "execute_result",
          "data": {
            "text/plain": [
              "<BarContainer object of 3 artists>"
            ]
          },
          "metadata": {
            "tags": []
          },
          "execution_count": 44
        },
        {
          "output_type": "display_data",
          "data": {
            "image/png": "[encoded data removed]",
            "text/plain": [
              "<Figure size 432x288 with 1 Axes>"
            ]
          },
          "metadata": {
            "tags": [],
            "needs_background": "light"
          }
        },
        {
          "output_type": "stream",
          "text": [
            "time: 141 ms (started: 2021-02-22 17:58:18 +00:00)\n"
          ],
          "name": "stdout"
        }
      ]
    },
    {
      "cell_type": "code",
      "metadata": {
        "id": "mnnFtAc-tnIN",
        "colab": {
          "base_uri": "https://localhost:8080/"
        },
        "outputId": "0ebf5a2c-ab9d-4f5f-d7bd-b0521f33e65e"
      },
      "source": [
        "from sklearn.model_selection import train_test_split\r\n",
        "x_train,x_test,y_train,y_test = train_test_split(flat_data,target,\r\n",
        "                                                 test_size=0.3,random_state=109)\r\n",
        "\r\n"
      ],
      "execution_count": 45,
      "outputs": [
        {
          "output_type": "stream",
          "text": [
            "time: 22.3 ms (started: 2021-02-22 17:58:26 +00:00)\n"
          ],
          "name": "stdout"
        }
      ]
    },
    {
      "cell_type": "code",
      "metadata": {
        "id": "6g_Drfkby-ec",
        "colab": {
          "base_uri": "https://localhost:8080/"
        },
        "outputId": "9266c972-a29b-4b48-c784-02c62c5c8974"
      },
      "source": [
        "from sklearn.model_selection import GridSearchCV\r\n",
        "from sklearn import svm\r\n",
        "param_grid = [\r\n",
        "              {'C':[1,10,100,1000],'kernel':['linear']},\r\n",
        "              {'C':[1,10,100,1000],'gamma':[0.001,0.0001],'kernel':['rbf']},\r\n",
        "          \r\n",
        "]\r\n",
        "svc = svm.SVC(probability=True)\r\n",
        "clf = GridSearchCV(svc,param_grid)\r\n",
        "clf.fit(x_train,y_train)"
      ],
      "execution_count": 46,
      "outputs": [
        {
          "output_type": "execute_result",
          "data": {
            "text/plain": [
              "GridSearchCV(cv=None, error_score=nan,\n",
              "             estimator=SVC(C=1.0, break_ties=False, cache_size=200,\n",
              "                           class_weight=None, coef0=0.0,\n",
              "                           decision_function_shape='ovr', degree=3,\n",
              "                           gamma='scale', kernel='rbf', max_iter=-1,\n",
              "                           probability=True, random_state=None, shrinking=True,\n",
              "                           tol=0.001, verbose=False),\n",
              "             iid='deprecated', n_jobs=None,\n",
              "             param_grid=[{'C': [1, 10, 100, 1000], 'kernel': ['linear']},\n",
              "                         {'C': [1, 10, 100, 1000], 'gamma': [0.001, 0.0001],\n",
              "                          'kernel': ['rbf']}],\n",
              "             pre_dispatch='2*n_jobs', refit=True, return_train_score=False,\n",
              "             scoring=None, verbose=0)"
            ]
          },
          "metadata": {
            "tags": []
          },
          "execution_count": 46
        },
        {
          "output_type": "stream",
          "text": [
            "time: 1min 53s (started: 2021-02-22 17:58:29 +00:00)\n"
          ],
          "name": "stdout"
        }
      ]
    },
    {
      "cell_type": "code",
      "metadata": {
        "colab": {
          "base_uri": "https://localhost:8080/"
        },
        "id": "Tz2N0UUkhN0Q",
        "outputId": "8735ab9e-348a-49b2-d367-0f87aa8de77f"
      },
      "source": [
        "y_pred = clf.predict(x_test)\r\n",
        "y_pred\r\n"
      ],
      "execution_count": 47,
      "outputs": [
        {
          "output_type": "execute_result",
          "data": {
            "text/plain": [
              "array([1, 0, 1, 0, 2, 1, 0, 1, 1, 0, 0, 0, 1, 2, 2, 1, 2, 1, 0, 1, 2, 2,\n",
              "       2, 0, 0, 0, 1])"
            ]
          },
          "metadata": {
            "tags": []
          },
          "execution_count": 47
        },
        {
          "output_type": "stream",
          "text": [
            "time: 165 ms (started: 2021-02-22 18:02:01 +00:00)\n"
          ],
          "name": "stdout"
        }
      ]
    },
    {
      "cell_type": "code",
      "metadata": {
        "colab": {
          "base_uri": "https://localhost:8080/"
        },
        "id": "GvHnHknxhiBb",
        "outputId": "732e803f-f918-4ada-8685-fa169ca99bb4"
      },
      "source": [
        "y_test"
      ],
      "execution_count": 48,
      "outputs": [
        {
          "output_type": "execute_result",
          "data": {
            "text/plain": [
              "array([1, 0, 1, 2, 2, 1, 0, 1, 1, 0, 1, 0, 1, 2, 2, 1, 2, 1, 0, 1, 2, 2,\n",
              "       2, 0, 0, 0, 1])"
            ]
          },
          "metadata": {
            "tags": []
          },
          "execution_count": 48
        },
        {
          "output_type": "stream",
          "text": [
            "time: 12 ms (started: 2021-02-22 18:02:05 +00:00)\n"
          ],
          "name": "stdout"
        }
      ]
    },
    {
      "cell_type": "code",
      "metadata": {
        "colab": {
          "base_uri": "https://localhost:8080/"
        },
        "id": "Yg2fD6kLhksD",
        "outputId": "792ea1da-a2ad-4c12-a709-09479bff0eab"
      },
      "source": [
        "from sklearn.metrics import accuracy_score,confusion_matrix"
      ],
      "execution_count": 49,
      "outputs": [
        {
          "output_type": "stream",
          "text": [
            "time: 1.36 ms (started: 2021-02-22 18:02:10 +00:00)\n"
          ],
          "name": "stdout"
        }
      ]
    },
    {
      "cell_type": "code",
      "metadata": {
        "colab": {
          "base_uri": "https://localhost:8080/"
        },
        "id": "YXBUqCLXhzwX",
        "outputId": "1964a346-5aa2-4610-a04c-9ec2f80429cc"
      },
      "source": [
        "accuracy_score(y_pred,y_test)"
      ],
      "execution_count": 51,
      "outputs": [
        {
          "output_type": "execute_result",
          "data": {
            "text/plain": [
              "0.9259259259259259"
            ]
          },
          "metadata": {
            "tags": []
          },
          "execution_count": 51
        },
        {
          "output_type": "stream",
          "text": [
            "time: 3.3 ms (started: 2021-02-22 18:02:19 +00:00)\n"
          ],
          "name": "stdout"
        }
      ]
    },
    {
      "cell_type": "code",
      "metadata": {
        "colab": {
          "base_uri": "https://localhost:8080/"
        },
        "id": "k_FivE2sh_hR",
        "outputId": "99372ae2-b845-4c87-d170-422f497a8008"
      },
      "source": [
        "confusion_matrix(y_pred,y_test)"
      ],
      "execution_count": 52,
      "outputs": [
        {
          "output_type": "execute_result",
          "data": {
            "text/plain": [
              "array([[ 8,  1,  1],\n",
              "       [ 0, 10,  0],\n",
              "       [ 0,  0,  7]])"
            ]
          },
          "metadata": {
            "tags": []
          },
          "execution_count": 52
        },
        {
          "output_type": "stream",
          "text": [
            "time: 3.98 ms (started: 2021-02-22 18:02:22 +00:00)\n"
          ],
          "name": "stdout"
        }
      ]
    },
    {
      "cell_type": "code",
      "metadata": {
        "colab": {
          "base_uri": "https://localhost:8080/"
        },
        "id": "PTcuyYlHiIYD",
        "outputId": "992bad7e-1ce8-4a38-9c18-f4550d294ad4"
      },
      "source": [
        "import pickle \r\n",
        "pickle.dump(clf,open('img_model.p','wb'))"
      ],
      "execution_count": 53,
      "outputs": [
        {
          "output_type": "stream",
          "text": [
            "time: 95.7 ms (started: 2021-02-22 18:02:27 +00:00)\n"
          ],
          "name": "stdout"
        }
      ]
    },
    {
      "cell_type": "code",
      "metadata": {
        "colab": {
          "base_uri": "https://localhost:8080/"
        },
        "id": "w0DgAtXMidDS",
        "outputId": "9d9658f2-3124-43bc-da72-86dd1c31702b"
      },
      "source": [
        "model = pickle.load(open('img_model.p','rb'))"
      ],
      "execution_count": 54,
      "outputs": [
        {
          "output_type": "stream",
          "text": [
            "time: 25 ms (started: 2021-02-22 18:02:32 +00:00)\n"
          ],
          "name": "stdout"
        }
      ]
    },
    {
      "cell_type": "code",
      "metadata": {
        "colab": {
          "base_uri": "https://localhost:8080/",
          "height": 339
        },
        "id": "SktKgOvCitZD",
        "outputId": "b71fd146-1f34-4fef-8052-ea609fcf539a"
      },
      "source": [
        "flat_data = []\r\n",
        "url = input('Enter your URL')\r\n",
        "img  = imread(url)\r\n",
        "img_resized = resize(img,(150,150,3))\r\n",
        "flat_data.append(img_resized.flatten())\r\n",
        "flat_data = np.array(flat_data)\r\n",
        "print(img.shape)\r\n",
        "plt.imshow(img_resized)\r\n",
        "y_out = model.predict(flat_data)\r\n",
        "y_out = CATEGORIES[y_out[0]]\r\n",
        "print(f'PREDICTED OUTPUT: {y_out}')"
      ],
      "execution_count": 55,
      "outputs": [
        {
          "output_type": "stream",
          "text": [
            "Enter your URLhttps://th.bing.com/th/id/OIP.sTF4RG5ySOp0qdO2a6-wsAHaIq?w=166&h=194&c=7&o=5&dpr=1.5&pid=1.7\n",
            "(291, 249, 3)\n",
            "PREDICTED OUTPUT: cricket bat\n"
          ],
          "name": "stdout"
        },
        {
          "output_type": "display_data",
          "data": {
            "image/png": "[encoded data removed]",
            "text/plain": [
              "<Figure size 432x288 with 1 Axes>"
            ]
          },
          "metadata": {
            "tags": [],
            "needs_background": "light"
          }
        },
        {
          "output_type": "stream",
          "text": [
            "time: 24.4 s (started: 2021-02-22 18:02:36 +00:00)\n"
          ],
          "name": "stdout"
        }
      ]
    }
  ]
}